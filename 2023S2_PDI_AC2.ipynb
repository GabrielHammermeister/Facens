{
 "cells": [
  {
   "cell_type": "markdown",
   "metadata": {
    "id": "tOIU9SaeIAz-"
   },
   "source": [
    "# <center>Centro Universitário Facens<br/></center>\n",
    "<br/>\n",
    "<font size=\"4\"><center><b>Disciplina: Processamento de imagens</b></center></font>\n",
    "  \n",
    "<font size=\"3\"><center>Prof. Dr. Renato M. Silva</center></font>\n",
    "<br/>\n",
    "<br/>\n",
    "\n",
    "## <center>Avaliação Continuada 2 (AC2)</center>\n"
   ]
  },
  {
   "cell_type": "markdown",
   "metadata": {},
   "source": [
    "----\n",
    "#### <center>RA, Turma e nome dos componentes do grupo</center>\n",
    "\n",
    "    \n",
    "| RA       | Turma        |      Nome     | \n",
    "|:--------:|:------------:|:-------------:|\n",
    "| 190448   | CP405TIN3    | Leonardo Muhamed Batista |\n",
    "| 190793   | CP405TIN3    | Enrico Reis Contó |\n",
    "| 190***   | CP405TIN3    | João Victor Uchoas |\n",
    "| 190***   | CP405TIN3    | Caio Lucas |\n",
    "| 190162   | CP405TIN3    | Gabriel H M da Costa |\n",
    "    "
   ]
  },
  {
   "cell_type": "markdown",
   "metadata": {},
   "source": [
    "----\n",
    "### Instruções\n",
    "\n",
    "**1**. Leia atentamente esta seção e as descrições de cada exercício para garantir que você está executando o que foi pedido.\n",
    "- O não atendimento de qualquer item descrito, implicará perda de nota.\n",
    "\n",
    "**2**. O trabalho pode ser feito em grupos de até 5 pessoas.\n",
    " - Apenas uma pessoa do grupo deve submeter o trabalho. \n",
    " - Você deve submeter apenas o arquivo .ipynb.\n",
    " - O grupo poderá ser composto por pessoas de qualquer uma das três turmas de processamento de imagens\n",
    " \n",
    "**3**. Siga boas práticas de programação:\n",
    "- dar nomes intuitivos para as variáveis\n",
    "- dar nomes intuitivos para as funções\n",
    "- comentar o código sempre que necessário\n",
    "\n",
    "**4**. Cuidado com plágio. Se for detectado plágio entre grupos, a punição será dada para todos os componentes dos grupos envolvidos. \n",
    "\n",
    "**5**. Antes de submeter o notebook, certifique-se que não há erros de código. Uma forma de se certificar disso é usar a opção **\"Reiniciar Kernel e executar todas as células\"** do Jupyter ou a opção **\"Reiniciar e executar tudo\"** do Google Colab. \n",
    "\n",
    "**6**. A única biblioteca de processamento de imagens permitida neste trabalho é a **OpenCV**. Porém, alguns exercícios poderão limitar algumas funções dessa biblioteca que poderão ser usadas. \n",
    "\n",
    "**7**. Em todos os exercícios que pedirem para salvar a imagem resultante, tome cuidado de converter a imagem para BGR antes de salvá-la pois esse é o formato padrão da biblioteca OpenCV. Caso contrário, os canais de cores da imagem resultante ficarão trocados. \n",
    "\n",
    "**8**. Em todos os exercícios, as imagens finais solicitadas devem estar no formato **uint8**.\n",
    "\n",
    "**9**. Em todos os exercícios, caso o resultado seja uma ou mais imagens, você deve mostrá-las na tela. \n",
    "\n",
    "**10**. Em todos os exercícios você deve tratar tons de cinza inválidos usando a técnica de saturação, há não ser que seja explicitamente pedida outra técnica. Sempre tome cuidado para que as operações executadas não causem desequilíbrio de cores."
   ]
  },
  {
   "cell_type": "markdown",
   "metadata": {},
   "source": [
    "----\n",
    "## Exercício 1 \n",
    "\n",
    "\n",
    "Implemente um algoritmo que crie a bandeira do Brasil da maneira mais aproximada possível da imagem mostrada abaixo. Salve a imagem resultante na pasta **figsResultado** com o nome **ex01_bandeira.png**. \n",
    "\n",
    "Para atingir esse resultado, as únicas funções da biblioteca **OpencCV** que poderão ser aplicadas são: **warpAffine**, **getRotationMatrix2D**, **resize**, **cvtColor** e aquelas que sirvam para abrir ou salvar uma imagem. Todas as demais operações deverão ser implementadas por meio de operações matriciais, podendo ser aplicadas função da biblioteca **NumPy**. \n",
    "\n",
    "Para criar o círculo da bandeira você deverá usar a imagem **figs/ex01_bola.webp**. Para inserir as estrelas na bandeira, você deverá usar a imagem **ex01_estrela.jpg**. Por fim, para gerar a região onde está escrito \"ordem e progresso\", você deverá usar a imagem **ex01_ordemProgresso.png**.\n",
    "\n",
    "**Dicas**: \n",
    "- Para gerar a região amarela da bandeira, crie uma retângulo e depois aplique as operações de cisalhamento e rotação.\n",
    "- Para remover o fundo das imagens, você pode fazer uma detecção de cores e usar a segmentação por limiarização. Nas imagens que contém a bola ou a estrela, depois de ter removido o fundo, você pode converter todos os pixels que não fazem parte do fundo para a cor desejada.\n",
    "- Para facilitar adicionar cada estrela na bandeira, crie uma função que receba a posição desejada e o tamanho desejado para a estrela\n",
    "\n",
    "<center>\n",
    "<div style=\"display:inline-block;\">\n",
    "    <div style=\"padding: 5px; float: left;\">\n",
    "        <img src=\"figsNotebook/ex01_Brasil.jpg\" width=\"800\" height=\"600\" />\n",
    "    </div>\n",
    "</div> \n",
    "</center>"
   ]
  },
  {
   "cell_type": "markdown",
   "metadata": {},
   "source": [
    "----\n",
    "## Exercício 2 \n",
    "\n",
    "\n",
    "Implemente um algoritmo que extraia todos os frames do video **videos/ex02_paisagens.mp4** e edite suas imagens. \n",
    "\n",
    "Detecte automaticamente se o frame possui baixo contraste. Nesse caso, se a imagem do frame for escura, você deve aplicar esqualização e escrever na parte superior da imagem, o seguinte texto: \"Imagem equalizada\". \n",
    "\n",
    "Se a imagem do frame não for escura, você deve escurecer a imagem até que no mínimo 30% dos valores de cada canal de cor percam toda informação de cor. Depois, escreva na parte superior da imagem, o seguinte texto: \"Imagem escurecida\".\n",
    "\n",
    "Gere um novo vídeo com as imagens editadas e salve como **resultados/ex02_paisagens.mp4**.\n",
    "\n",
    "Observações: \n",
    "- Para extrair os frames do vídeo fornecido ou gerar um novo vídeo você pode usar a bibliteca **OpenCV** ([Veja neste link](https://docs.opencv.org/4.x/dd/d43/tutorial_py_video_display.html)) ou usar a biblioteca **imageio** ([Veja neste link](https://imageio.readthedocs.io/en/stable/examples.html)).\n",
    "- As imagens resultantes adicionadas dentro do vídeo devem continuar coloridas"
   ]
  },
  {
   "cell_type": "markdown",
   "metadata": {},
   "source": [
    "----\n",
    "## Exercicio 3\n",
    "\n",
    "Os histogramas de imagens similares, tendem a compartilhar valores similares. Portanto, eles podem ser utilizados para fazer buscas de imagens. Além das estatísticas tradicionais para comparar histogramas (e.g., média, desvio padrão, mediana, IQR, etc), podem ser usadas medidas mais robustas que calculam similaridade entre vetores ou distribuições de probabilidade.\n",
    "\n",
    "Com base nisso, crie uma função que receba como entrada uma imagem alvo, uma base de dados de imagens e o nome de um método de similaridade. \n",
    "- A base de dados deve conter dois campos: a imagem e sua classe. \n",
    "- A função deve retornar a imagem mais similar à imagem alvo e a classe que pode ser: **praia, carro ou pessoa**. \n",
    "- Para encontrar a imagem mais similar, você deve usar uma das três seguintes opções:\n",
    "    - **distância euclidiana**: criando uma função própria ou usando uma função pronta da biblioteca numpy, scipy, scikit-learn ou outra biblioteca.\n",
    "    - **correlação de Pearson**: criando uma função própria ou usando uma função da biblioteca OpenCV, numpy, scipy ou outra biblioteca. \n",
    "    - **distância de Bhattacharyya**: criando uma função própria ou usando uma função da biblioteca OpenCV, numpy, scipy ou outra biblioteca. \n",
    "  \n",
    "Para montar a base de dados descrita acima, use as imagens das pastas **figs/ex03/carro/**, **figs/ex03/pessoa/** e **figs/ex03/praia/**. Teste a função criada com todas as imagens da pasta **figs/ex03/teste** mostrando na tela qual é a classe obtida e a imagem mais similar encontrada para cada uma das três técnicas de similaridade acima.  \n",
    "    \n",
    "    \n",
    "### Mais informações sobre as três técnicas de similaridade \n",
    "A **distância euclidiana** pode assumir valores entre 0 e infinito. Um valor de d próximo de 0 indica que os dois histogramas são muito semelhantes. Um valor de d próximo de infinito indica que os dois histogramas são muito diferentes. Ela pode ser calculada pela seguinte equação: $d(P, Q) = \\sqrt{\\sum_{i=1}^{B} (p_i - q_i)^2}$, onde d(P,Q) é a distância euclidiana entre os histogramas P e Q, B é o número de bins dos histogramas, $p_i$ é a probabilidade de o valor bin i ocorrer no histograma P e $q_i$ é a probabilidade de o valor bin i ocorrer no histograma Q.\n",
    "\n",
    "A correlação de **Pearson** pode assumir valores entre -1 e 1. Um valor próximo de 1 indica que os dois histogramas estão fortemente correlacionados positivamente. Um valor próximo de -1 indica que os dois histogramas estão fortemente correlacionados negativamente. Um valor próximo de 0 indica que os dois histogramas não estão correlacionados. Ela é calculada pela seguinte equação: $pearson = \\frac{\\sum_{i=1}^{B} (p_i - \\bar{p})(q_i - \\bar{q})}{\\sqrt{\\sum_{i=1}^{B} (p_i - \\bar{p})^2 \\sum_{i=1}^{B} (q_i - \\bar{q})^2}}$, onde $p_i$ é a probabilidade de o valor bin i ocorrer no histograma P, $q_i$ é a probabilidade de o valor bin i ocorrer no histograma Q, $\\bar{p}$ é a média dos valores bin dos histogramas P e $\\bar{q}$ é a média dos valores bin dos histogramas Q. \n",
    "       \n",
    "A distância de **Bhattacharyya** pode assumir valores entre 0 e 1. Um valor próximo de 0 indica que os dois histogramas são muito semelhantes. Um valor próximo de 1 indica que os dois histogramas são muito diferentes. Ela pode ser calculada pela seguinte equação: $d(P, Q) = -ln \\left( \\sum_{i=1}^{B} \\sqrt{P_i *  Q_i} \\right)$, onde $d(P, Q)$ é a distância de Bhattacharyya entre os histogramas P e Q, B é o número de bins dos histogramas, P_i é a probabilidade de o valor bin i ocorrer no histograma P e $Q_i$ é a probabilidade de o valor bin i ocorrer no histograma Q."
   ]
  },
  {
   "cell_type": "code",
   "execution_count": null,
   "metadata": {
    "ExecuteTime": {
     "end_time": "2023-10-06T23:25:38.133096937Z",
     "start_time": "2023-10-06T23:25:38.087772345Z"
    }
   },
   "outputs": [],
   "source": []
  },
  {
   "cell_type": "markdown",
   "metadata": {
    "tags": []
   },
   "source": [
    "----\n",
    "## Exercicio 4\n",
    "\n",
    "\n",
    "Implemente uma função que receba uma imagem e uma matriz afim como entrada. Essa função deve aplicar a matriz afim para fazer uma transformação afim inversa. Teste a função criada passando como entrada a imagem **figs/ex04_facens.jpg** e cada uma das matrizes afim que gerem as seguintes transformações geométricas: escala, rotação, translação ou cisalhamento. \n",
    "\n",
    "Salve as imagens resultantes dentro da pasta **resultados**, respectivamente, com os nomes: **ex04_escala.png, ex04_rotacao.png, ex04_translacao.png** e **ex04_cisalhamento.png**: \n",
    "\n",
    "**Obs.** Neste exercício, não é permitido usar nenhuma biblioteca de processamento de imagens.  Use operações matriciais por meio da biblioteca Numpy, seguindo a lógica de resolução ensinada na disciplina."
   ]
  },
  {
   "cell_type": "code",
   "execution_count": null,
   "metadata": {
    "ExecuteTime": {
     "end_time": "2023-10-06T23:25:38.136927079Z",
     "start_time": "2023-10-06T23:25:38.131694691Z"
    }
   },
   "outputs": [],
   "source": []
  },
  {
   "cell_type": "markdown",
   "metadata": {},
   "source": [
    "----\n",
    "## Exercicio 5\n",
    "\n",
    "O filtro de detecção de ponto é usado para realçar as bordas e detalhes finos das imagens. Ele pode ser usado também para ajudar a diminuir o embaçamento de imagens somando as bordas detectadas pelo filtro com a imagem desfocada, com o objetivo de realçar seus detalhes.\n",
    "\n",
    "Com base nas afirmações acima, aplique os filtros de média e mediana para diminuir o ruído da imagem **figs/facens2_ruido.png** e depois some com as bordas encontradas pela detecção de pontos. "
   ]
  },
  {
   "cell_type": "code",
   "execution_count": null,
   "metadata": {
    "ExecuteTime": {
     "end_time": "2023-10-06T23:25:38.137454606Z",
     "start_time": "2023-10-06T23:25:38.132235279Z"
    }
   },
   "outputs": [],
   "source": []
  },
  {
   "cell_type": "markdown",
   "metadata": {},
   "source": [
    "----\n",
    "## Exercicio 6\n",
    "\n",
    "O operação morfológica top-hat pode ser usada para remover a iluminação de fundo irregular de uma imagem com fundo escuro, o que destaca os objetos da imagem. Com base nessa informação, use essa técnica para destacar o arroz da imagem **arroz.png**. Você deve salvar a nova imagem com o nome **resultado/ex05_arroz_tophat.png**. A imagem abaixo, do lado esquerdo, mostra um exemplo do resultado esperado. \n",
    "\n",
    "Depois, você deve aplicar limiarização na imagem para gerar o resultado mostrado abaixo, do lado direito. Salve a imagem resultante com o nome **resultado/ex05_arroz_limiarizacao.png**\n",
    "\n",
    "Obs. Neste exercício só é permitido usar função pronta da biblioteca OpenCV para fazer as operações de erosão e dilatação. \n",
    "\n",
    "Obs. Trabalhe com as imagens em tons de cinza em vez de RGB.\n",
    "\n",
    "<center>\n",
    "<div style=\"display:inline-block;\">\n",
    "    <div style=\"padding: 5px; float: left;\">\n",
    "        <img src=\"figsNotebook/arroz1.png\" width=\"300\"/>\n",
    "        <img src=\"figsNotebook/arroz2.png\" width=\"300\"/>\n",
    "    </div>\n",
    "</div> \n",
    "</center>"
   ]
  },
  {
   "cell_type": "code",
   "execution_count": null,
   "metadata": {
    "ExecuteTime": {
     "end_time": "2023-10-06T23:25:38.137774908Z",
     "start_time": "2023-10-06T23:25:38.132732983Z"
    }
   },
   "outputs": [],
   "source": []
  },
  {
   "cell_type": "markdown",
   "metadata": {},
   "source": [
    "----\n",
    "## Exercicio 7\n",
    "\n",
    "Altere a imagem **figs/circles.png** usando apenas operações morfológicas e operações lógicas para atingir o resultado apresentado abaixo. Salve como **resultado/ex07_circle.png**\n",
    "\n",
    "<center>\n",
    "<div style=\"display:inline-block;\">\n",
    "    <div style=\"padding: 5px; float: left;\">\n",
    "        <img src=\"figsNotebook/circles.png\" width=\"300\"/>\n",
    "    </div>\n",
    "</div> \n",
    "</center>"
   ]
  },
  {
   "cell_type": "code",
   "execution_count": null,
   "metadata": {
    "ExecuteTime": {
     "end_time": "2023-10-06T23:25:38.138264371Z",
     "start_time": "2023-10-06T23:25:38.136504946Z"
    }
   },
   "outputs": [],
   "source": []
  }
 ],
 "metadata": {
  "colab": {
   "name": "brincando_imagens.ipynb",
   "provenance": []
  },
  "kernelspec": {
   "display_name": "Python 3 (ipykernel)",
   "language": "python",
   "name": "python3"
  },
  "language_info": {
   "codemirror_mode": {
    "name": "ipython",
    "version": 3
   },
   "file_extension": ".py",
   "mimetype": "text/x-python",
   "name": "python",
   "nbconvert_exporter": "python",
   "pygments_lexer": "ipython3",
   "version": "3.10.12"
  }
 },
 "nbformat": 4,
 "nbformat_minor": 4
}
